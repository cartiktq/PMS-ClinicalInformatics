{
  "nbformat": 4,
  "nbformat_minor": 0,
  "metadata": {
    "colab": {
      "provenance": [],
      "gpuType": "V6E1",
      "authorship_tag": "ABX9TyNGXPERX5OviwmKLEcZwER7",
      "include_colab_link": true
    },
    "kernelspec": {
      "name": "python3",
      "display_name": "Python 3"
    },
    "language_info": {
      "name": "python"
    },
    "accelerator": "TPU"
  },
  "cells": [
    {
      "cell_type": "markdown",
      "metadata": {
        "id": "view-in-github",
        "colab_type": "text"
      },
      "source": [
        "<a href=\"https://colab.research.google.com/github/cartiktq/PMS-ClinicalInformatics/blob/main/KnowledgeGraphGenerator.ipynb\" target=\"_parent\"><img src=\"https://colab.research.google.com/assets/colab-badge.svg\" alt=\"Open In Colab\"/></a>"
      ]
    },
    {
      "cell_type": "code",
      "source": [
        "from langgraph.graph import StateGraph, END\n",
        "from typing import TypedDict, List, Dict, Any\n",
        "from agents import (\n",
        "    generate_notes,             # Node 1\n",
        "    anonymize_notes,           # Node 2\n",
        "    evaluate_anonymization,    # Node 3\n",
        "    extract_entities,          # Node 4\n",
        "    map_to_umls_concepts,      # Node 5\n",
        "    map_to_local_aui,          # Node 6\n",
        "    build_patient_knowledge_graph,  # Node 7\n",
        "    visualize_knowledge_graph       # Node 8\n",
        ")\n",
        "\n",
        "class WorkflowState(TypedDict):\n",
        "    raw_notes_folder: str\n",
        "    anonymized_folder: str\n",
        "    comparison_metric: float\n",
        "    extracted_csv: str\n",
        "    umls_csv: str\n",
        "    aui_csv: str\n",
        "    graph_objects: List[Dict[str, Any]]\n",
        "    visualizations: List[Any]\n",
        "\n",
        "graph = StateGraph(WorkflowState)\n",
        "\n",
        "# Register nodes\n",
        "graph.add_node(\"generate_notes\", generate_notes)\n",
        "graph.add_node(\"anonymize_notes\", anonymize_notes)\n",
        "graph.add_node(\"evaluate_anonymization\", evaluate_anonymization)\n",
        "graph.add_node(\"extract_entities\", extract_entities)\n",
        "graph.add_node(\"map_to_umls_concepts\", map_to_umls_concepts)\n",
        "graph.add_node(\"map_to_local_aui\", map_to_local_aui)\n",
        "graph.add_node(\"build_knowledge_graph\", build_patient_knowledge_graph)\n",
        "graph.add_node(\"visualize_knowledge_graph\", visualize_knowledge_graph)\n",
        "\n",
        "# Edges (linear)\n",
        "graph.set_entry_point(\"generate_notes\")\n",
        "graph.add_edge(\"generate_notes\", \"anonymize_notes\")\n",
        "graph.add_edge(\"anonymize_notes\", \"evaluate_anonymization\")\n",
        "graph.add_edge(\"evaluate_anonymization\", \"extract_entities\")\n",
        "graph.add_edge(\"extract_entities\", \"map_to_umls_concepts\")\n",
        "graph.add_edge(\"map_to_umls_concepts\", \"map_to_local_aui\")\n",
        "graph.add_edge(\"map_to_local_aui\", \"build_knowledge_graph\")\n",
        "graph.add_edge(\"build_knowledge_graph\", \"visualize_knowledge_graph\")\n",
        "graph.add_edge(\"visualize_knowledge_graph\", END)\n",
        "\n",
        "app = graph.compile()\n"
      ],
      "metadata": {
        "id": "I0a_eLjm1iHx"
      },
      "execution_count": null,
      "outputs": []
    }
  ]
}